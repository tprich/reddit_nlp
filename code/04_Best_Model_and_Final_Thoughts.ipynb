{
 "cells": [
  {
   "cell_type": "markdown",
   "id": "10415816",
   "metadata": {},
   "source": [
    "# Best Model and Final Thoughts\n",
    "\n",
    "In this notebook I will be presenting the best model from the 03_Modeling notebook, evaluating it, and providing my final thoughts and conclusions."
   ]
  },
  {
   "cell_type": "code",
   "execution_count": 1,
   "id": "9d3e0f28",
   "metadata": {},
   "outputs": [],
   "source": [
    "import pandas as pd\n",
    "import numpy as np\n",
    "\n",
    "from sklearn.feature_extraction.text import TfidfVectorizer\n",
    "from sklearn.model_selection import train_test_split, RandomizedSearchCV\n",
    "from sklearn.pipeline import Pipeline, FeatureUnion\n",
    "from sklearn.metrics import plot_confusion_matrix, classification_report\n",
    "from sklearn.linear_model import LogisticRegression\n",
    "from sklearn.preprocessing import FunctionTransformer\n",
    "\n",
    "import warnings\n",
    "\n",
    "warnings.filterwarnings('ignore')\n",
    "pd.options.display.max_colwidth = 400"
   ]
  },
  {
   "cell_type": "code",
   "execution_count": 2,
   "id": "c421cb36",
   "metadata": {},
   "outputs": [
    {
     "data": {
      "text/html": [
       "<div>\n",
       "<style scoped>\n",
       "    .dataframe tbody tr th:only-of-type {\n",
       "        vertical-align: middle;\n",
       "    }\n",
       "\n",
       "    .dataframe tbody tr th {\n",
       "        vertical-align: top;\n",
       "    }\n",
       "\n",
       "    .dataframe thead th {\n",
       "        text-align: right;\n",
       "    }\n",
       "</style>\n",
       "<table border=\"1\" class=\"dataframe\">\n",
       "  <thead>\n",
       "    <tr style=\"text-align: right;\">\n",
       "      <th></th>\n",
       "      <th>title</th>\n",
       "      <th>selftext</th>\n",
       "      <th>subreddit</th>\n",
       "      <th>created_utc</th>\n",
       "      <th>all_text</th>\n",
       "      <th>word_count</th>\n",
       "    </tr>\n",
       "  </thead>\n",
       "  <tbody>\n",
       "    <tr>\n",
       "      <th>0</th>\n",
       "      <td>Germany Aims To Get 100% of Energy From Renewable Sources By 2035</td>\n",
       "      <td></td>\n",
       "      <td>1</td>\n",
       "      <td>1646141490</td>\n",
       "      <td>Germany Aims To Get 100% of Energy From Renewable Sources By 2035</td>\n",
       "      <td>12</td>\n",
       "    </tr>\n",
       "    <tr>\n",
       "      <th>1</th>\n",
       "      <td>Ambiental Dedetização - Dedetizadora e controle de Pragas</td>\n",
       "      <td></td>\n",
       "      <td>1</td>\n",
       "      <td>1646140604</td>\n",
       "      <td>Ambiental Dedetização - Dedetizadora e controle de Pragas</td>\n",
       "      <td>8</td>\n",
       "    </tr>\n",
       "    <tr>\n",
       "      <th>2</th>\n",
       "      <td>Alcohol use by parents of young children was related to how many bars and restaurants were near where they shopped, where they worked and where their children went to school, a new study finds.</td>\n",
       "      <td></td>\n",
       "      <td>1</td>\n",
       "      <td>1646138910</td>\n",
       "      <td>Alcohol use by parents of young children was related to how many bars and restaurants were near where they shopped, where they worked and where their children went to school, a new study finds.</td>\n",
       "      <td>34</td>\n",
       "    </tr>\n",
       "  </tbody>\n",
       "</table>\n",
       "</div>"
      ],
      "text/plain": [
       "                                                                                                                                                                                               title  \\\n",
       "0                                                                                                                                  Germany Aims To Get 100% of Energy From Renewable Sources By 2035   \n",
       "1                                                                                                                                          Ambiental Dedetização - Dedetizadora e controle de Pragas   \n",
       "2  Alcohol use by parents of young children was related to how many bars and restaurants were near where they shopped, where they worked and where their children went to school, a new study finds.   \n",
       "\n",
       "  selftext  subreddit  created_utc  \\\n",
       "0                   1   1646141490   \n",
       "1                   1   1646140604   \n",
       "2                   1   1646138910   \n",
       "\n",
       "                                                                                                                                                                                            all_text  \\\n",
       "0                                                                                                                                  Germany Aims To Get 100% of Energy From Renewable Sources By 2035   \n",
       "1                                                                                                                                          Ambiental Dedetização - Dedetizadora e controle de Pragas   \n",
       "2  Alcohol use by parents of young children was related to how many bars and restaurants were near where they shopped, where they worked and where their children went to school, a new study finds.   \n",
       "\n",
       "   word_count  \n",
       "0          12  \n",
       "1           8  \n",
       "2          34  "
      ]
     },
     "execution_count": 2,
     "metadata": {},
     "output_type": "execute_result"
    }
   ],
   "source": [
    "df = pd.read_csv('../data/cleaned/prepped_posts_with_count.csv', na_filter=False)\n",
    "df.head(3)"
   ]
  },
  {
   "cell_type": "code",
   "execution_count": 3,
   "id": "17fa03f5",
   "metadata": {},
   "outputs": [],
   "source": [
    "X = df.drop(columns='subreddit')\n",
    "y = df['subreddit']"
   ]
  },
  {
   "cell_type": "code",
   "execution_count": 4,
   "id": "ca3e28a4",
   "metadata": {
    "scrolled": true
   },
   "outputs": [
    {
     "data": {
      "text/plain": [
       "1    0.500501\n",
       "0    0.499499\n",
       "Name: subreddit, dtype: float64"
      ]
     },
     "execution_count": 4,
     "metadata": {},
     "output_type": "execute_result"
    }
   ],
   "source": [
    "y.value_counts(normalize=True)"
   ]
  },
  {
   "cell_type": "code",
   "execution_count": 5,
   "id": "314c4dde",
   "metadata": {},
   "outputs": [],
   "source": [
    "X_train, X_test, y_train, y_test = train_test_split(X, y, random_state=42, stratify=y)"
   ]
  },
  {
   "cell_type": "code",
   "execution_count": 6,
   "id": "003d291f",
   "metadata": {},
   "outputs": [],
   "source": [
    "def get_word_count_col(df):\n",
    "    return df[['word_count']]\n",
    "\n",
    "def get_all_text_col(df):\n",
    "    return df['all_text']\n",
    "\n",
    "get_word_count_col_tf = FunctionTransformer(get_word_count_col, validate=False)\n",
    "get_all_text_col_tf = FunctionTransformer(get_all_text_col, validate=False)"
   ]
  },
  {
   "cell_type": "code",
   "execution_count": 7,
   "id": "571c36a4",
   "metadata": {},
   "outputs": [],
   "source": [
    "word_count_pipe = Pipeline([\n",
    "    ('word_count', get_word_count_col_tf),\n",
    "])\n",
    "\n",
    "all_text_pipe = Pipeline([\n",
    "    ('all_text', get_all_text_col_tf),\n",
    "    ('vect', TfidfVectorizer()),\n",
    "])"
   ]
  },
  {
   "cell_type": "code",
   "execution_count": 8,
   "id": "a4dda936",
   "metadata": {},
   "outputs": [],
   "source": [
    "feature_union = FeatureUnion([\n",
    "    ('count', word_count_pipe),\n",
    "    ('text', all_text_pipe),\n",
    "])"
   ]
  },
  {
   "cell_type": "code",
   "execution_count": 9,
   "id": "b3430eaa",
   "metadata": {},
   "outputs": [],
   "source": [
    "pipe = Pipeline([\n",
    "    ('features', feature_union),\n",
    "    ('logreg', LogisticRegression(max_iter=10_000))\n",
    "])"
   ]
  },
  {
   "cell_type": "code",
   "execution_count": 10,
   "id": "87269dd5",
   "metadata": {},
   "outputs": [
    {
     "name": "stdout",
     "output_type": "stream",
     "text": [
      "Training Score: 0.8780638455827765\n",
      "Test Score: 0.8866666666666667\n",
      "              precision    recall  f1-score   support\n",
      "\n",
      "           0       0.91      0.86      0.88       375\n",
      "           1       0.87      0.91      0.89       375\n",
      "\n",
      "    accuracy                           0.89       750\n",
      "   macro avg       0.89      0.89      0.89       750\n",
      "weighted avg       0.89      0.89      0.89       750\n",
      "\n"
     ]
    }
   ],
   "source": [
    "params={\n",
    "    'features__text__vect__stop_words': [['til']],\n",
    "    'features__text__vect__min_df':[1],\n",
    "    'features__text__vect__max_df': [.5],\n",
    "    'features__text__vect__binary': [False],\n",
    "    'features__text__vect__ngram_range': [(1,2)],\n",
    "    'logreg__solver': ['saga'],\n",
    "    'logreg__penalty': ['none']\n",
    "}\n",
    "best_model = RandomizedSearchCV(pipe, param_distributions=params, random_state=42)\n",
    "best_model.fit(X_train, y_train)\n",
    "\n",
    "print('Training Score: '+str(best_model.best_score_))\n",
    "print('Test Score: '+str(best_model.score(X_test, y_test)))\n",
    "print(classification_report(y_test, best_model.predict(X_test)))"
   ]
  },
  {
   "cell_type": "code",
   "execution_count": 11,
   "id": "1c34fb43",
   "metadata": {},
   "outputs": [
    {
     "data": {
      "image/png": "[encoded data removed]",
      "text/plain": [
       "<Figure size 432x288 with 2 Axes>"
      ]
     },
     "metadata": {
      "needs_background": "light"
     },
     "output_type": "display_data"
    }
   ],
   "source": [
    "plot_confusion_matrix(best_model, X_test, y_test,\n",
    "                      display_labels=['r/todayilearned', 'r/science'], cmap='Blues');"
   ]
  },
  {
   "cell_type": "markdown",
   "id": "e0c5d28f",
   "metadata": {},
   "source": [
    "# Final Thoughts and Conclusions\n",
    "\n",
    "\n",
    "The above model is pretty good at determining which subreddit a post belongs to. It is 89% accurate and the false positives and false negatives are pretty balanced and not heavily skewed one way or the other. The word count doesn't help a whole lot, but it did improve it some, so I am glad to keep it in.\n",
    "\n",
    "\n",
    "What I am curious about is how this model will perform in the future. Due to the timing of this project, I pulled posts as a major conflict was occuring in Ukraine, which pretty much took over every subreddit, including r/todayilearned. That may have made it easier for the model to classify each subreddit since there was a more consistent theme for the posts. If I had pulled the posts prior to the conflict, I may have had a worse model since r/todayilearned may have been more diverse. I believe r/science would be pretty similar to what I pulled, so that effect on the model may be unchanged.\n",
    "\n",
    "\n",
    "The other thing I wanted to note was that I am glad I was able to get such a high accuracy rate even with adding 'til' to the stop words. 'TIL' would have been a dead giveaway that the post was from r/todayilearned. Not every post had it, but more than 75% did when I explored the data. Adding it back in would probably be a major boost that could get the accuracy easily over 90%."
   ]
  },
  {
   "cell_type": "markdown",
   "id": "5582ff45",
   "metadata": {},
   "source": [
    "# Next Steps\n",
    "\n",
    "\n",
    "There are couple of things that could be done to expand on this project. There are a ton of different models that I was taught towards the end of the week that I could use to get predictions that may be even more accurate. I also tried working with regular expressions and custom tokenizers to no success, so if I had more time I could explore those more. \n",
    "\n",
    "\n",
    "If I wanted to keep the same model, I would wait a couple of months and try the same subreddits again to see how it would perform. I think r/science would be about the same but I'm curious as to what the top words would be like for r/todayilearned after the Ukraine war is over. I would think the model accuracy would go down, but the nature of r/todayilearned is such that any major world event could easily generate a lot of posts there, making something like 'pineapple' (maybe a rainbow pineapple is grown or something?) take over the top spot for a week or so as redditers learn more about pineapples.\n",
    "\n",
    "All in all, I am happy with how the project turned out, but I would like to have had more time to try newer models and maybe gather even more posts to better train the models with."
   ]
  }
 ],
 "metadata": {
  "kernelspec": {
   "display_name": "Python 3 (ipykernel)",
   "language": "python",
   "name": "python3"
  },
  "language_info": {
   "codemirror_mode": {
    "name": "ipython",
    "version": 3
   },
   "file_extension": ".py",
   "mimetype": "text/x-python",
   "name": "python",
   "nbconvert_exporter": "python",
   "pygments_lexer": "ipython3",
   "version": "3.9.7"
  }
 },
 "nbformat": 4,
 "nbformat_minor": 5
}
