{
 "cells": [
  {
   "cell_type": "markdown",
   "id": "920e5da1",
   "metadata": {},
   "source": [
    "# 01 Getting the Data\n",
    "\n",
    "In this notebook, I will be gathering all of the data that will be used in this project. I am using the subreddits r/science and r/todayilearned. "
   ]
  },
  {
   "cell_type": "code",
   "execution_count": 1,
   "id": "4475eb2f",
   "metadata": {},
   "outputs": [],
   "source": [
    "import pandas as pd\n",
    "import numpy as np\n",
    "import requests\n",
    "import time"
   ]
  },
  {
   "cell_type": "code",
   "execution_count": 2,
   "id": "2427c1b0",
   "metadata": {},
   "outputs": [],
   "source": [
    "url = 'https://api.pushshift.io/reddit/search/submission/'"
   ]
  },
  {
   "cell_type": "code",
   "execution_count": 3,
   "id": "d2c20268",
   "metadata": {},
   "outputs": [],
   "source": [
    "subreddits = ['science', 'todayilearned']\n",
    "dfs = []\n",
    "\n",
    "for subreddit in subreddits:\n",
    "    before = int(time.time())\n",
    "    for i in range(15):\n",
    "        \n",
    "        params = {\n",
    "            'subreddit': subreddit,\n",
    "            'size': 100,\n",
    "            'before': before\n",
    "        }\n",
    "        \n",
    "        res = requests.get(url, params = params)\n",
    "       \n",
    "        data = res.json()        \n",
    "        posts = pd.DataFrame(data['data'])[['title', 'selftext', 'subreddit', 'created_utc']]        \n",
    "        dfs.append(posts)\n",
    "        \n",
    "        before = posts['created_utc'].values[-1]\n",
    "        \n",
    "        time.sleep(10)\n",
    "        \n",
    "        \n",
    "all_posts = pd.concat(dfs, ignore_index=True)"
   ]
  },
  {
   "cell_type": "code",
   "execution_count": 7,
   "id": "4af9f33a",
   "metadata": {
    "scrolled": false
   },
   "outputs": [
    {
     "data": {
      "text/html": [
       "<div>\n",
       "<style scoped>\n",
       "    .dataframe tbody tr th:only-of-type {\n",
       "        vertical-align: middle;\n",
       "    }\n",
       "\n",
       "    .dataframe tbody tr th {\n",
       "        vertical-align: top;\n",
       "    }\n",
       "\n",
       "    .dataframe thead th {\n",
       "        text-align: right;\n",
       "    }\n",
       "</style>\n",
       "<table border=\"1\" class=\"dataframe\">\n",
       "  <thead>\n",
       "    <tr style=\"text-align: right;\">\n",
       "      <th></th>\n",
       "      <th>title</th>\n",
       "      <th>selftext</th>\n",
       "      <th>subreddit</th>\n",
       "      <th>created_utc</th>\n",
       "    </tr>\n",
       "  </thead>\n",
       "  <tbody>\n",
       "    <tr>\n",
       "      <th>0</th>\n",
       "      <td>Germany Aims To Get 100% of Energy From Renewa...</td>\n",
       "      <td></td>\n",
       "      <td>science</td>\n",
       "      <td>1646141490</td>\n",
       "    </tr>\n",
       "    <tr>\n",
       "      <th>1</th>\n",
       "      <td>Ambiental Dedetização - Dedetizadora e control...</td>\n",
       "      <td></td>\n",
       "      <td>science</td>\n",
       "      <td>1646140604</td>\n",
       "    </tr>\n",
       "    <tr>\n",
       "      <th>2</th>\n",
       "      <td>Alcohol use by parents of young children was r...</td>\n",
       "      <td></td>\n",
       "      <td>science</td>\n",
       "      <td>1646138910</td>\n",
       "    </tr>\n",
       "    <tr>\n",
       "      <th>3</th>\n",
       "      <td>Neighbourhoods Play A Role In Health Of Adults...</td>\n",
       "      <td></td>\n",
       "      <td>science</td>\n",
       "      <td>1646132676</td>\n",
       "    </tr>\n",
       "    <tr>\n",
       "      <th>4</th>\n",
       "      <td>Ultrasound scan can diagnose prostate cancer. ...</td>\n",
       "      <td></td>\n",
       "      <td>science</td>\n",
       "      <td>1646132446</td>\n",
       "    </tr>\n",
       "    <tr>\n",
       "      <th>...</th>\n",
       "      <td>...</td>\n",
       "      <td>...</td>\n",
       "      <td>...</td>\n",
       "      <td>...</td>\n",
       "    </tr>\n",
       "    <tr>\n",
       "      <th>2992</th>\n",
       "      <td>TIL Pandora didn't have a box</td>\n",
       "      <td></td>\n",
       "      <td>todayilearned</td>\n",
       "      <td>1645530046</td>\n",
       "    </tr>\n",
       "    <tr>\n",
       "      <th>2993</th>\n",
       "      <td>Ms Excel Complete course for beginners to Adva...</td>\n",
       "      <td></td>\n",
       "      <td>todayilearned</td>\n",
       "      <td>1645529820</td>\n",
       "    </tr>\n",
       "    <tr>\n",
       "      <th>2994</th>\n",
       "      <td>TIL If measured from the ocean floor, Mount Te...</td>\n",
       "      <td></td>\n",
       "      <td>todayilearned</td>\n",
       "      <td>1645529785</td>\n",
       "    </tr>\n",
       "    <tr>\n",
       "      <th>2995</th>\n",
       "      <td>Nehmen Sie an einem Supermarkt-Gutschein teil!...</td>\n",
       "      <td></td>\n",
       "      <td>todayilearned</td>\n",
       "      <td>1645528261</td>\n",
       "    </tr>\n",
       "    <tr>\n",
       "      <th>2996</th>\n",
       "      <td>TIL about 1st century Macedonian olympic winne...</td>\n",
       "      <td></td>\n",
       "      <td>todayilearned</td>\n",
       "      <td>1645526889</td>\n",
       "    </tr>\n",
       "  </tbody>\n",
       "</table>\n",
       "<p>2997 rows × 4 columns</p>\n",
       "</div>"
      ],
      "text/plain": [
       "                                                  title selftext  \\\n",
       "0     Germany Aims To Get 100% of Energy From Renewa...            \n",
       "1     Ambiental Dedetização - Dedetizadora e control...            \n",
       "2     Alcohol use by parents of young children was r...            \n",
       "3     Neighbourhoods Play A Role In Health Of Adults...            \n",
       "4     Ultrasound scan can diagnose prostate cancer. ...            \n",
       "...                                                 ...      ...   \n",
       "2992                      TIL Pandora didn't have a box            \n",
       "2993  Ms Excel Complete course for beginners to Adva...            \n",
       "2994  TIL If measured from the ocean floor, Mount Te...            \n",
       "2995  Nehmen Sie an einem Supermarkt-Gutschein teil!...            \n",
       "2996  TIL about 1st century Macedonian olympic winne...            \n",
       "\n",
       "          subreddit  created_utc  \n",
       "0           science   1646141490  \n",
       "1           science   1646140604  \n",
       "2           science   1646138910  \n",
       "3           science   1646132676  \n",
       "4           science   1646132446  \n",
       "...             ...          ...  \n",
       "2992  todayilearned   1645530046  \n",
       "2993  todayilearned   1645529820  \n",
       "2994  todayilearned   1645529785  \n",
       "2995  todayilearned   1645528261  \n",
       "2996  todayilearned   1645526889  \n",
       "\n",
       "[2997 rows x 4 columns]"
      ]
     },
     "execution_count": 7,
     "metadata": {},
     "output_type": "execute_result"
    }
   ],
   "source": [
    "all_posts"
   ]
  },
  {
   "cell_type": "code",
   "execution_count": 8,
   "id": "44e54488",
   "metadata": {},
   "outputs": [
    {
     "data": {
      "text/plain": [
       "(2997, 4)"
      ]
     },
     "execution_count": 8,
     "metadata": {},
     "output_type": "execute_result"
    }
   ],
   "source": [
    "all_posts.shape"
   ]
  },
  {
   "cell_type": "code",
   "execution_count": 9,
   "id": "9233c46e",
   "metadata": {},
   "outputs": [],
   "source": [
    "all_posts.to_csv('../data/raw/posts.csv', index = False)"
   ]
  },
  {
   "cell_type": "markdown",
   "id": "8212cfd9",
   "metadata": {},
   "source": [
    "# Next Steps\n",
    "\n",
    "I have now collected 1,500 posts from r/science and 1,447 from r/todayilearned. The API seemed to stop working at the very end for some reason, resulting in the 3 missing posts. However, I have more than the minimum needed to proceed in this lab. Thus, I am not going to revisit this notebook again because re-running it will give me new posts that could completely change how everything is designed in the next notebooks. There will be a little bit of cleaning in the next notebook, but it will mostly be EDA. You can find all of that in the 02_Cleaning_and_EDA notebook."
   ]
  }
 ],
 "metadata": {
  "kernelspec": {
   "display_name": "Python 3 (ipykernel)",
   "language": "python",
   "name": "python3"
  },
  "language_info": {
   "codemirror_mode": {
    "name": "ipython",
    "version": 3
   },
   "file_extension": ".py",
   "mimetype": "text/x-python",
   "name": "python",
   "nbconvert_exporter": "python",
   "pygments_lexer": "ipython3",
   "version": "3.9.7"
  }
 },
 "nbformat": 4,
 "nbformat_minor": 5
}
